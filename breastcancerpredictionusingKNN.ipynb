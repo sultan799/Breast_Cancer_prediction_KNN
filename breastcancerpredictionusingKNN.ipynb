{
  "nbformat": 4,
  "nbformat_minor": 0,
  "metadata": {
    "colab": {
      "name": "breastcancerpredictionusingKNN.ipynb",
      "provenance": [],
      "collapsed_sections": [],
      "authorship_tag": "ABX9TyNs6rD9XIeIJrIuLWDo0f02",
      "include_colab_link": true
    },
    "kernelspec": {
      "name": "python3",
      "display_name": "Python 3"
    }
  },
  "cells": [
    {
      "cell_type": "markdown",
      "metadata": {
        "id": "view-in-github",
        "colab_type": "text"
      },
      "source": [
        "<a href=\"https://colab.research.google.com/github/sultan799/Breast_Cancer_prediction_KNN/blob/main/breastcancerpredictionusingKNN.ipynb\" target=\"_parent\"><img src=\"https://colab.research.google.com/assets/colab-badge.svg\" alt=\"Open In Colab\"/></a>"
      ]
    },
    {
      "cell_type": "markdown",
      "metadata": {
        "id": "W07Hear2Bu2C"
      },
      "source": [
        "Breast cancer prediction using KNN"
      ]
    },
    {
      "cell_type": "markdown",
      "metadata": {
        "id": "aDOyxIo4Rbn-"
      },
      "source": [
        "Data Collection"
      ]
    },
    {
      "cell_type": "code",
      "metadata": {
        "id": "Wte7UcZyBgbe"
      },
      "source": [
        "import numpy as np\r\n",
        "import matplotlib.pyplot as plt\r\n",
        "import sklearn.datasets"
      ],
      "execution_count": null,
      "outputs": []
    },
    {
      "cell_type": "code",
      "metadata": {
        "id": "oRdyxY7tBpuj"
      },
      "source": [
        "#collecting dataset\r\n",
        "breastcancer=sklearn.datasets.load_breast_cancer()\r\n",
        "print(breastcancer)"
      ],
      "execution_count": null,
      "outputs": []
    },
    {
      "cell_type": "markdown",
      "metadata": {
        "id": "8SqHL6tKRfCW"
      },
      "source": [
        "Data Preprocessing"
      ]
    },
    {
      "cell_type": "code",
      "metadata": {
        "id": "unnOV9UIBetC"
      },
      "source": [
        "X=breastcancer.data#storing input feature columns in X\r\n",
        "Y=breastcancer.target#storing label/output column in Y\r\n",
        "print(X.shape,Y.shape)"
      ],
      "execution_count": null,
      "outputs": []
    },
    {
      "cell_type": "code",
      "metadata": {
        "id": "yrGiMaDtDsqE"
      },
      "source": [
        "import pandas as pd\r\n",
        "data=pd.DataFrame(X,columns=breastcancer.feature_names)\r\n",
        "print(data)\r\n",
        "data['result']=breastcancer.target\r\n",
        "print(data)"
      ],
      "execution_count": null,
      "outputs": []
    },
    {
      "cell_type": "code",
      "metadata": {
        "id": "PSyd2N6qE215"
      },
      "source": [
        "from sklearn.model_selection import train_test_split\r\n",
        "X_train,X_test,Y_train,Y_test=train_test_split(X,Y)\r\n",
        "print(X.mean(),X_train.mean(),X_test.mean())\r\n",
        "X_train,X_test,Y_train,Y_test=train_test_split(X,Y,test_size=0.2,stratify=Y)\r\n",
        "print(X_train.shape,Y_train.shape)\r\n",
        "print(X.mean(),X_train.mean(),X_test.mean())\r\n",
        "print(Y.mean(),Y_train.mean(),Y_test.mean())"
      ],
      "execution_count": null,
      "outputs": []
    },
    {
      "cell_type": "markdown",
      "metadata": {
        "id": "Zo1LlJVKRkxm"
      },
      "source": [
        "Model Building"
      ]
    },
    {
      "cell_type": "code",
      "metadata": {
        "id": "ZFC_4k77HPuf"
      },
      "source": [
        "from sklearn.neighbors import KNeighborsClassifier\r\n",
        "model=KNeighborsClassifier(n_neighbors=100)\r\n",
        "model.fit(X_train,Y_train)"
      ],
      "execution_count": null,
      "outputs": []
    },
    {
      "cell_type": "markdown",
      "metadata": {
        "id": "l0tNnh0QMRfA"
      },
      "source": [
        "Model Evaluation"
      ]
    },
    {
      "cell_type": "code",
      "metadata": {
        "id": "FosNqXHBMOtn"
      },
      "source": [
        "from sklearn.metrics import accuracy_score\r\n",
        "prediction_on_train_data=model.predict(X_train)\r\n",
        "print(prediction_on_train_data)\r\n",
        "print('accuracy on trained data',accuracy_score(Y_train,prediction_on_train_data))\r\n",
        "prediction_on_test_data=model.predict(X_test)\r\n",
        "print('accuracy on test data is',accuracy_score(Y_test,prediction_on_test_data))"
      ],
      "execution_count": null,
      "outputs": []
    },
    {
      "cell_type": "markdown",
      "metadata": {
        "id": "ERHdyovRNWpb"
      },
      "source": [
        "Prediction with unknown data"
      ]
    },
    {
      "cell_type": "code",
      "metadata": {
        "id": "Mq_sTiqKNbCw"
      },
      "source": [
        "inputdata=(13.54,14.36,87.46,566.3,0.09779,0.08129,0.06664,0.04781,0.1885,0.05766,0.2699,0.7886,2.058,23.56,0.008462,0.0146,0.02387,0.01315,0.0198,0.0023,15.11,19.26,99.7,711.2,0.144,0.1773,0.239,0.1288,0.2977,0.07259)\r\n",
        "inputdata_to_numpy=np.asarray(inputdata)\r\n",
        "inputdata_reshaped=inputdata_to_numpy.reshape(1,-1)\r\n",
        "predict=model.predict(inputdata_reshaped)\r\n",
        "\r\n",
        "#prediction\r\n",
        "predictiononunknowndata=model.predict(inputdata_reshaped)\r\n",
        "if(predictiononunknowndata==1):\r\n",
        "  print(\"it is Benign\")\r\n",
        "else:\r\n",
        "  print(\"it is Malignant\")"
      ],
      "execution_count": null,
      "outputs": []
    },
    {
      "cell_type": "code",
      "metadata": {
        "id": "TL2uWxQLNVug"
      },
      "source": [
        "#plotting on graph\r\n",
        "plt.plot(X_test,prediction_on_test_data)\r\n",
        "plt.xlabel('features')\r\n",
        "plt.ylabel('result')\r\n",
        "plt.show()"
      ],
      "execution_count": null,
      "outputs": []
    }
  ]
}